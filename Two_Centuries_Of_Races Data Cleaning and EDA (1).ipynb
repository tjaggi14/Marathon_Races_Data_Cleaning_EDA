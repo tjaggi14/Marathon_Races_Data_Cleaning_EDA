{
 "cells": [
  {
   "cell_type": "code",
   "execution_count": null,
   "id": "86ae24b2",
   "metadata": {},
   "outputs": [],
   "source": [
    "import pandas as pd\n",
    "import seaborn as sns"
   ]
  },
  {
   "cell_type": "code",
   "execution_count": null,
   "id": "c8ac63b8",
   "metadata": {},
   "outputs": [],
   "source": [
    "df = pd.read_csv(r'C:\\Users\\tjagg\\Downloads\\archive\\TWO_CENTURIES_OF_UM_RACES.csv', encoding= 'unicode_escape')"
   ]
  },
  {
   "cell_type": "code",
   "execution_count": null,
   "id": "caa5ab32",
   "metadata": {},
   "outputs": [],
   "source": [
    "df.head(10)"
   ]
  },
  {
   "cell_type": "code",
   "execution_count": null,
   "id": "d27a966e",
   "metadata": {},
   "outputs": [],
   "source": [
    "df.shape"
   ]
  },
  {
   "cell_type": "code",
   "execution_count": null,
   "id": "d41a6979",
   "metadata": {},
   "outputs": [],
   "source": [
    "df.dtypes"
   ]
  },
  {
   "cell_type": "code",
   "execution_count": null,
   "id": "31999ec4",
   "metadata": {},
   "outputs": [],
   "source": [
    "df.info()"
   ]
  },
  {
   "cell_type": "code",
   "execution_count": null,
   "id": "1ccc47dd",
   "metadata": {},
   "outputs": [],
   "source": [
    "# Only want USA Races, 50Km or 50miles, 2020"
   ]
  },
  {
   "cell_type": "code",
   "execution_count": null,
   "id": "f3c3b6f8",
   "metadata": {},
   "outputs": [],
   "source": [
    "# 1) show 50Km or 50Mi\n",
    "# 50Km\n",
    "# 50mi"
   ]
  },
  {
   "cell_type": "code",
   "execution_count": null,
   "id": "9d744cd9",
   "metadata": {},
   "outputs": [],
   "source": [
    "df[df['Event distance/length'] == '50mi']"
   ]
  },
  {
   "cell_type": "code",
   "execution_count": null,
   "id": "0961dd93",
   "metadata": {},
   "outputs": [],
   "source": [
    "# Combine 50km/50mi with isin"
   ]
  },
  {
   "cell_type": "code",
   "execution_count": null,
   "id": "8b0d053f",
   "metadata": {},
   "outputs": [],
   "source": [
    "df[df['Event distance/length'].isin(['50km','50mi'])]"
   ]
  },
  {
   "cell_type": "code",
   "execution_count": null,
   "id": "44fe2792",
   "metadata": {},
   "outputs": [],
   "source": [
    "# 2) Then break down to 2020 year\n",
    "df[(df['Event distance/length'].isin(['50km','50mi'])) & (df['Year of event'] == 2020)]"
   ]
  },
  {
   "cell_type": "code",
   "execution_count": null,
   "id": "7d2791f5",
   "metadata": {},
   "outputs": [],
   "source": [
    "# 3) USA only\n",
    "df[df['Event name'] == 'Everglades 50 Mile Ultra Run (USA)']['Event name'].str.split('(').str.get(1).str.split(')').str.get(0)"
   ]
  },
  {
   "cell_type": "code",
   "execution_count": null,
   "id": "66d0c182",
   "metadata": {},
   "outputs": [],
   "source": [
    "df[df['Event name'].str.split('(').str.get(1).str.split(')').str.get(0) == 'USA']"
   ]
  },
  {
   "cell_type": "code",
   "execution_count": null,
   "id": "60a4faa9",
   "metadata": {},
   "outputs": [],
   "source": [
    "# combine all filters together"
   ]
  },
  {
   "cell_type": "code",
   "execution_count": null,
   "id": "764b0a7c",
   "metadata": {},
   "outputs": [],
   "source": [
    "df[(df['Event distance/length'].isin(['50km','50mi'])) & (df['Year of event'] == 2020) & (df['Event name'].str.split('(').str.get(1).str.split(')').str.get(0) == 'USA')]"
   ]
  },
  {
   "cell_type": "code",
   "execution_count": null,
   "id": "aebfb905",
   "metadata": {},
   "outputs": [],
   "source": [
    "df2 = df[(df['Event distance/length'].isin(['50km','50mi'])) & (df['Year of event'] == 2020) & (df['Event name'].str.split('(').str.get(1).str.split(')').str.get(0) == 'USA')]"
   ]
  },
  {
   "cell_type": "code",
   "execution_count": null,
   "id": "687e1797",
   "metadata": {},
   "outputs": [],
   "source": [
    "df2.head(10)"
   ]
  },
  {
   "cell_type": "code",
   "execution_count": null,
   "id": "4596fa23",
   "metadata": {},
   "outputs": [],
   "source": [
    "df2.shape"
   ]
  },
  {
   "cell_type": "code",
   "execution_count": null,
   "id": "2ebb7a4f",
   "metadata": {},
   "outputs": [],
   "source": [
    "df2.info()"
   ]
  },
  {
   "cell_type": "code",
   "execution_count": null,
   "id": "b7535000",
   "metadata": {},
   "outputs": [],
   "source": [
    "# removing (USA) from the event name"
   ]
  },
  {
   "cell_type": "code",
   "execution_count": null,
   "id": "d4b001ee",
   "metadata": {},
   "outputs": [],
   "source": [
    "df2['Event name'].str.split('(').str.get(0)"
   ]
  },
  {
   "cell_type": "code",
   "execution_count": null,
   "id": "3785d4fb",
   "metadata": {},
   "outputs": [],
   "source": [
    "df2['Event name'] = df2['Event name'].str.split('(').str.get(0)"
   ]
  },
  {
   "cell_type": "code",
   "execution_count": null,
   "id": "12e20144",
   "metadata": {},
   "outputs": [],
   "source": [
    "df2.head(10)"
   ]
  },
  {
   "cell_type": "code",
   "execution_count": null,
   "id": "2a320e1e",
   "metadata": {},
   "outputs": [],
   "source": [
    "# clean up athlete age"
   ]
  },
  {
   "cell_type": "code",
   "execution_count": null,
   "id": "4c4079bb",
   "metadata": {},
   "outputs": [],
   "source": [
    "df2['athlete_age'] = 2020 - df2['Athlete year of birth']"
   ]
  },
  {
   "cell_type": "code",
   "execution_count": null,
   "id": "40ab5a47",
   "metadata": {},
   "outputs": [],
   "source": [
    "# remove h from athlete performance"
   ]
  },
  {
   "cell_type": "code",
   "execution_count": null,
   "id": "88a461ae",
   "metadata": {},
   "outputs": [],
   "source": [
    "df2['Athlete performance'] = df2['Athlete performance'].str.split(' ').str.get(0)"
   ]
  },
  {
   "cell_type": "code",
   "execution_count": null,
   "id": "763452cd",
   "metadata": {},
   "outputs": [],
   "source": [
    "df2.head()"
   ]
  },
  {
   "cell_type": "code",
   "execution_count": null,
   "id": "7a2dc713",
   "metadata": {},
   "outputs": [],
   "source": [
    "# drop columns: Athlete Club, Athlete Country, Athlete year of birth, Athlete Age Category"
   ]
  },
  {
   "cell_type": "code",
   "execution_count": null,
   "id": "116b520f",
   "metadata": {},
   "outputs": [],
   "source": [
    "df2 = df2.drop(['Athlete club', 'Athlete country', 'Athlete year of birth', 'Athlete age category'], axis = 1)"
   ]
  },
  {
   "cell_type": "code",
   "execution_count": null,
   "id": "096a027a",
   "metadata": {},
   "outputs": [],
   "source": [
    "df2.head()"
   ]
  },
  {
   "cell_type": "code",
   "execution_count": null,
   "id": "7d0912f7",
   "metadata": {},
   "outputs": [],
   "source": [
    "# clean up null values"
   ]
  },
  {
   "cell_type": "code",
   "execution_count": null,
   "id": "d5e7e8ea",
   "metadata": {},
   "outputs": [],
   "source": [
    "df2.isna().sum()"
   ]
  },
  {
   "cell_type": "code",
   "execution_count": null,
   "id": "ccc7c19d",
   "metadata": {},
   "outputs": [],
   "source": [
    "df2[df2['athlete_age'].isna()==1]"
   ]
  },
  {
   "cell_type": "code",
   "execution_count": null,
   "id": "16652c30",
   "metadata": {},
   "outputs": [],
   "source": [
    "df2 = df2.dropna()"
   ]
  },
  {
   "cell_type": "code",
   "execution_count": null,
   "id": "a6e5b94e",
   "metadata": {},
   "outputs": [],
   "source": [
    "df2.shape"
   ]
  },
  {
   "cell_type": "code",
   "execution_count": null,
   "id": "7bac54eb",
   "metadata": {},
   "outputs": [],
   "source": [
    "# Check for duplicate values"
   ]
  },
  {
   "cell_type": "code",
   "execution_count": null,
   "id": "35ddfbdb",
   "metadata": {},
   "outputs": [],
   "source": [
    "df2[df2.duplicated() == True]"
   ]
  },
  {
   "cell_type": "code",
   "execution_count": null,
   "id": "80060683",
   "metadata": {},
   "outputs": [],
   "source": [
    "# reset index"
   ]
  },
  {
   "cell_type": "code",
   "execution_count": null,
   "id": "9e4c8839",
   "metadata": {},
   "outputs": [],
   "source": [
    "df2.reset_index(drop = True)"
   ]
  },
  {
   "cell_type": "code",
   "execution_count": null,
   "id": "3a96b955",
   "metadata": {},
   "outputs": [],
   "source": [
    "# fix types"
   ]
  },
  {
   "cell_type": "code",
   "execution_count": null,
   "id": "ec74dbf9",
   "metadata": {},
   "outputs": [],
   "source": [
    "df2.dtypes"
   ]
  },
  {
   "cell_type": "code",
   "execution_count": null,
   "id": "74508223",
   "metadata": {},
   "outputs": [],
   "source": [
    "df2['athlete_age'] = df2['athlete_age'].astype(int)"
   ]
  },
  {
   "cell_type": "code",
   "execution_count": null,
   "id": "5c645a17",
   "metadata": {},
   "outputs": [],
   "source": [
    "df2['Athlete average speed'] = df2['Athlete average speed'].astype(float)"
   ]
  },
  {
   "cell_type": "code",
   "execution_count": null,
   "id": "3c4e0c07",
   "metadata": {},
   "outputs": [],
   "source": [
    "df2.dtypes"
   ]
  },
  {
   "cell_type": "code",
   "execution_count": null,
   "id": "861753ac",
   "metadata": {},
   "outputs": [],
   "source": [
    "df2.head()"
   ]
  },
  {
   "cell_type": "code",
   "execution_count": null,
   "id": "95e55cea",
   "metadata": {},
   "outputs": [],
   "source": [
    "# rename columns"
   ]
  },
  {
   "cell_type": "code",
   "execution_count": null,
   "id": "47ee0f07",
   "metadata": {},
   "outputs": [],
   "source": [
    "df2 = df2.rename(columns = {'Year of event':'year',\n",
    "                          'Event dates':'race_day',\n",
    "                          'Event name':'race_name',\n",
    "                          'Event distance/length':'race_length',\n",
    "                          'Event number of finishers':'race_number_of_finishers',\n",
    "                          'Athlete performance':'athlete_performance',\n",
    "                          'Athlete gender':'athlete_gender',\n",
    "                          'Athlete average speed':'athlete_average_speed',\n",
    "                          'Athlete ID':'athlete_id'\n",
    "                          })"
   ]
  },
  {
   "cell_type": "code",
   "execution_count": null,
   "id": "d7f8f704",
   "metadata": {},
   "outputs": [],
   "source": [
    "df2.head()"
   ]
  },
  {
   "cell_type": "code",
   "execution_count": null,
   "id": "e1e66a92",
   "metadata": {},
   "outputs": [],
   "source": [
    "# reorder columns"
   ]
  },
  {
   "cell_type": "code",
   "execution_count": null,
   "id": "2e66f687",
   "metadata": {},
   "outputs": [],
   "source": [
    "df3 = df2[['race_day','race_name','race_length','race_number_of_finishers','athlete_id','athlete_gender','athlete_age','athlete_performance','athlete_average_speed','year']]"
   ]
  },
  {
   "cell_type": "code",
   "execution_count": null,
   "id": "2e762ae8",
   "metadata": {},
   "outputs": [],
   "source": [
    "df3.head()"
   ]
  },
  {
   "cell_type": "code",
   "execution_count": null,
   "id": "557190f2",
   "metadata": {},
   "outputs": [],
   "source": [
    "df3[df3['race_name'] == 'Everglades 50 Mile Ultra Run ']"
   ]
  },
  {
   "cell_type": "code",
   "execution_count": null,
   "id": "60ed4857",
   "metadata": {},
   "outputs": [],
   "source": [
    "df3[df3['athlete_id'] == 222509]"
   ]
  },
  {
   "cell_type": "code",
   "execution_count": null,
   "id": "6b14dab4",
   "metadata": {},
   "outputs": [],
   "source": [
    "# Exploratory Data Analysis"
   ]
  },
  {
   "cell_type": "code",
   "execution_count": null,
   "id": "fd9be45d",
   "metadata": {},
   "outputs": [],
   "source": [
    "# charts and graphs"
   ]
  },
  {
   "cell_type": "code",
   "execution_count": null,
   "id": "bf13783e",
   "metadata": {},
   "outputs": [],
   "source": [
    "sns.histplot(df3['race_length'])"
   ]
  },
  {
   "cell_type": "code",
   "execution_count": null,
   "id": "b8523dfe",
   "metadata": {},
   "outputs": [],
   "source": [
    "sns.histplot(df3, x = 'race_length', hue = 'athlete_gender')"
   ]
  },
  {
   "cell_type": "code",
   "execution_count": null,
   "id": "62c4147c",
   "metadata": {},
   "outputs": [],
   "source": [
    "sns.displot(df3[df3['race_length'] == '50mi']['athlete_average_speed'])"
   ]
  },
  {
   "cell_type": "code",
   "execution_count": null,
   "id": "d8f2e384",
   "metadata": {},
   "outputs": [],
   "source": [
    "sns.violinplot(data = df3, x = 'race_length', y = 'athlete_average_speed', hue = 'athlete_gender', split=True, inner = 'quart', linewidth = 1)"
   ]
  },
  {
   "cell_type": "code",
   "execution_count": null,
   "id": "11586775",
   "metadata": {},
   "outputs": [],
   "source": [
    "sns.lmplot(data = df3, x = 'athlete_age', y = 'athlete_average_speed', hue = 'athlete_gender')"
   ]
  },
  {
   "cell_type": "code",
   "execution_count": null,
   "id": "9308fe20",
   "metadata": {},
   "outputs": [],
   "source": [
    "# 1) Difference in speed for the 50km,50mi male to female"
   ]
  },
  {
   "cell_type": "code",
   "execution_count": null,
   "id": "ad201e14",
   "metadata": {},
   "outputs": [],
   "source": [
    "df3.groupby(['race_length', 'athlete_gender'])['athlete_average_speed'].mean()"
   ]
  },
  {
   "cell_type": "code",
   "execution_count": null,
   "id": "2cc862e9",
   "metadata": {},
   "outputs": [],
   "source": [
    "# 2) What age groups are the best in the 50mi race (20 + race min) show 15"
   ]
  },
  {
   "cell_type": "code",
   "execution_count": null,
   "id": "cb00f16f",
   "metadata": {},
   "outputs": [],
   "source": [
    "df3.query('race_length == \"50mi\"').groupby('athlete_age')['athlete_average_speed'].agg(['mean', 'count']).sort_values('mean', ascending = False).query('count>19').head(15)"
   ]
  },
  {
   "cell_type": "code",
   "execution_count": null,
   "id": "7ba51913",
   "metadata": {},
   "outputs": [],
   "source": [
    "# 3) What age groups are the worst in the 50mi Race (10 + races min) (show 20)"
   ]
  },
  {
   "cell_type": "code",
   "execution_count": null,
   "id": "1f4feaeb",
   "metadata": {},
   "outputs": [],
   "source": [
    "df3.query('race_length == \"50mi\"').groupby('athlete_age')['athlete_average_speed'].agg(['mean', 'count']).sort_values('mean', ascending = True).query('count>10').head(20)"
   ]
  },
  {
   "cell_type": "code",
   "execution_count": null,
   "id": "4253d4ce",
   "metadata": {},
   "outputs": [],
   "source": [
    "# 4) Are runners slower in summer than winter?"
   ]
  },
  {
   "cell_type": "code",
   "execution_count": null,
   "id": "d253f346",
   "metadata": {},
   "outputs": [],
   "source": [
    "df3['race_month'] = df3['race_day'].str.split('.').str.get(1).astype(int)"
   ]
  },
  {
   "cell_type": "code",
   "execution_count": null,
   "id": "334d6628",
   "metadata": {},
   "outputs": [],
   "source": [
    "df3['race_season'] = df3['race_month'].apply(lambda x: 'Winter' if x > 11 else 'Fall' if x > 8 else 'Summer' if x > 5 else 'Spring' if x > 2 else 'Winter')"
   ]
  },
  {
   "cell_type": "code",
   "execution_count": null,
   "id": "0eb19b88",
   "metadata": {},
   "outputs": [],
   "source": [
    "df3.head(25)"
   ]
  },
  {
   "cell_type": "code",
   "execution_count": null,
   "id": "f46ebd2b",
   "metadata": {},
   "outputs": [],
   "source": [
    "df3.groupby('race_season')['athlete_average_speed'].agg(['mean', 'count']).sort_values('mean', ascending = False)"
   ]
  }
 ],
 "metadata": {
  "kernelspec": {
   "display_name": "Python 3 (ipykernel)",
   "language": "python",
   "name": "python3"
  },
  "language_info": {
   "codemirror_mode": {
    "name": "ipython",
    "version": 3
   },
   "file_extension": ".py",
   "mimetype": "text/x-python",
   "name": "python",
   "nbconvert_exporter": "python",
   "pygments_lexer": "ipython3",
   "version": "3.10.9"
  }
 },
 "nbformat": 4,
 "nbformat_minor": 5
}
